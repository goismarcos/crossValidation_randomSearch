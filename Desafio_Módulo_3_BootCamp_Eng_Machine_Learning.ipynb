{
  "nbformat": 4,
  "nbformat_minor": 0,
  "metadata": {
    "colab": {
      "name": "Desafio Módulo 3 BootCamp Eng. Machine Learning",
      "provenance": []
    },
    "kernelspec": {
      "name": "python3",
      "display_name": "Python 3"
    },
    "language_info": {
      "name": "python"
    }
  },
  "cells": [
    {
      "cell_type": "markdown",
      "source": [
        "# **Aplicação do SVM e Random Forest, com Random Search  e validação cruzada estratificada (Métrica utilizada F-score)**\n",
        "\n",
        "> Conjunto de dados de pacientes hepáticos indianos\n",
        "Este conjunto de dados contém 416 registros de pacientes hepáticos e 167 registros de pacientes não hepáticos. O conjunto de dados foi coletado no nordeste de Andhra Pradesh, Índia. O rótulo da classe divide os pacientes em 2 grupos (doente hepático ou não). Este conjunto de dados contém 441 registros de pacientes do sexo masculino e 142 registros de pacientes do sexo feminino.\n",
        "\n",
        "**Informações dos atributos**\n",
        "*   V1. Idade do paciente. Qualquer paciente cuja idade ultrapasse 89 anos é listado como tendo idade \"90\".\n",
        "*   V2. Sexo do paciente\n",
        "*   V2. Sexo do paciente\n",
        "*   V3. Bilirrubina Total\n",
        "*   V4. Bilirrubina Direta\n",
        "*   V5. Alkphos Fosfatase Alcalina\n",
        "*   V6. Sgpt Alanina Aminotransferase\n",
        "*   V7. Sgot Aspartato Aminotransferase\n",
        "*   V8. Proteínas Totais\n",
        "*   V9. Albumina\n",
        "*   V10. Relação A/G Albumina e Relação Globulina\n",
        "\n",
        "[Fonte dos dados](https://www.openml.org/search?type=data&sort=runs&id=1480&status=active)\n"
      ],
      "metadata": {
        "id": "KrWq-HrsN573"
      }
    },
    {
      "cell_type": "markdown",
      "source": [
        "# **Coleta, exploração e pré-processamento dos dados**"
      ],
      "metadata": {
        "id": "WYT1T_IuMXSf"
      }
    },
    {
      "cell_type": "code",
      "execution_count": 94,
      "metadata": {
        "id": "VABbwL6-KHcQ"
      },
      "outputs": [],
      "source": [
        "import pandas as pd\n",
        "import numpy as np \n",
        "import matplotlib.pyplot as plt \n",
        "from scipy.io.arff import loadarff \n",
        "from sklearn.ensemble import RandomForestClassifier\n",
        "from sklearn.svm import SVC\n",
        "from sklearn.model_selection import StratifiedKFold\n",
        "from sklearn.model_selection import RandomizedSearchCV\n",
        "from scipy.stats import uniform\n",
        "from scipy.stats import randint\n",
        "from sklearn.metrics import f1_score, make_scorer"
      ]
    },
    {
      "cell_type": "code",
      "source": [
        "data = loadarff('ilpd.arff')\n",
        "df = pd.DataFrame(data[0])\n",
        "df.head()"
      ],
      "metadata": {
        "colab": {
          "base_uri": "https://localhost:8080/",
          "height": 206
        },
        "id": "X7SKmiNLK-mM",
        "outputId": "961f2a25-2786-440d-b32b-83544a91a19a"
      },
      "execution_count": 95,
      "outputs": [
        {
          "output_type": "execute_result",
          "data": {
            "text/plain": [
              "     V1         V2    V3   V4     V5    V6     V7   V8   V9   V10 Class\n",
              "0  65.0  b'Female'   0.7  0.1  187.0  16.0   18.0  6.8  3.3  0.90  b'1'\n",
              "1  62.0    b'Male'  10.9  5.5  699.0  64.0  100.0  7.5  3.2  0.74  b'1'\n",
              "2  62.0    b'Male'   7.3  4.1  490.0  60.0   68.0  7.0  3.3  0.89  b'1'\n",
              "3  58.0    b'Male'   1.0  0.4  182.0  14.0   20.0  6.8  3.4  1.00  b'1'\n",
              "4  72.0    b'Male'   3.9  2.0  195.0  27.0   59.0  7.3  2.4  0.40  b'1'"
            ],
            "text/html": [
              "\n",
              "  <div id=\"df-43d7a770-586b-401b-acd5-bdf612d0915d\">\n",
              "    <div class=\"colab-df-container\">\n",
              "      <div>\n",
              "<style scoped>\n",
              "    .dataframe tbody tr th:only-of-type {\n",
              "        vertical-align: middle;\n",
              "    }\n",
              "\n",
              "    .dataframe tbody tr th {\n",
              "        vertical-align: top;\n",
              "    }\n",
              "\n",
              "    .dataframe thead th {\n",
              "        text-align: right;\n",
              "    }\n",
              "</style>\n",
              "<table border=\"1\" class=\"dataframe\">\n",
              "  <thead>\n",
              "    <tr style=\"text-align: right;\">\n",
              "      <th></th>\n",
              "      <th>V1</th>\n",
              "      <th>V2</th>\n",
              "      <th>V3</th>\n",
              "      <th>V4</th>\n",
              "      <th>V5</th>\n",
              "      <th>V6</th>\n",
              "      <th>V7</th>\n",
              "      <th>V8</th>\n",
              "      <th>V9</th>\n",
              "      <th>V10</th>\n",
              "      <th>Class</th>\n",
              "    </tr>\n",
              "  </thead>\n",
              "  <tbody>\n",
              "    <tr>\n",
              "      <th>0</th>\n",
              "      <td>65.0</td>\n",
              "      <td>b'Female'</td>\n",
              "      <td>0.7</td>\n",
              "      <td>0.1</td>\n",
              "      <td>187.0</td>\n",
              "      <td>16.0</td>\n",
              "      <td>18.0</td>\n",
              "      <td>6.8</td>\n",
              "      <td>3.3</td>\n",
              "      <td>0.90</td>\n",
              "      <td>b'1'</td>\n",
              "    </tr>\n",
              "    <tr>\n",
              "      <th>1</th>\n",
              "      <td>62.0</td>\n",
              "      <td>b'Male'</td>\n",
              "      <td>10.9</td>\n",
              "      <td>5.5</td>\n",
              "      <td>699.0</td>\n",
              "      <td>64.0</td>\n",
              "      <td>100.0</td>\n",
              "      <td>7.5</td>\n",
              "      <td>3.2</td>\n",
              "      <td>0.74</td>\n",
              "      <td>b'1'</td>\n",
              "    </tr>\n",
              "    <tr>\n",
              "      <th>2</th>\n",
              "      <td>62.0</td>\n",
              "      <td>b'Male'</td>\n",
              "      <td>7.3</td>\n",
              "      <td>4.1</td>\n",
              "      <td>490.0</td>\n",
              "      <td>60.0</td>\n",
              "      <td>68.0</td>\n",
              "      <td>7.0</td>\n",
              "      <td>3.3</td>\n",
              "      <td>0.89</td>\n",
              "      <td>b'1'</td>\n",
              "    </tr>\n",
              "    <tr>\n",
              "      <th>3</th>\n",
              "      <td>58.0</td>\n",
              "      <td>b'Male'</td>\n",
              "      <td>1.0</td>\n",
              "      <td>0.4</td>\n",
              "      <td>182.0</td>\n",
              "      <td>14.0</td>\n",
              "      <td>20.0</td>\n",
              "      <td>6.8</td>\n",
              "      <td>3.4</td>\n",
              "      <td>1.00</td>\n",
              "      <td>b'1'</td>\n",
              "    </tr>\n",
              "    <tr>\n",
              "      <th>4</th>\n",
              "      <td>72.0</td>\n",
              "      <td>b'Male'</td>\n",
              "      <td>3.9</td>\n",
              "      <td>2.0</td>\n",
              "      <td>195.0</td>\n",
              "      <td>27.0</td>\n",
              "      <td>59.0</td>\n",
              "      <td>7.3</td>\n",
              "      <td>2.4</td>\n",
              "      <td>0.40</td>\n",
              "      <td>b'1'</td>\n",
              "    </tr>\n",
              "  </tbody>\n",
              "</table>\n",
              "</div>\n",
              "      <button class=\"colab-df-convert\" onclick=\"convertToInteractive('df-43d7a770-586b-401b-acd5-bdf612d0915d')\"\n",
              "              title=\"Convert this dataframe to an interactive table.\"\n",
              "              style=\"display:none;\">\n",
              "        \n",
              "  <svg xmlns=\"http://www.w3.org/2000/svg\" height=\"24px\"viewBox=\"0 0 24 24\"\n",
              "       width=\"24px\">\n",
              "    <path d=\"M0 0h24v24H0V0z\" fill=\"none\"/>\n",
              "    <path d=\"M18.56 5.44l.94 2.06.94-2.06 2.06-.94-2.06-.94-.94-2.06-.94 2.06-2.06.94zm-11 1L8.5 8.5l.94-2.06 2.06-.94-2.06-.94L8.5 2.5l-.94 2.06-2.06.94zm10 10l.94 2.06.94-2.06 2.06-.94-2.06-.94-.94-2.06-.94 2.06-2.06.94z\"/><path d=\"M17.41 7.96l-1.37-1.37c-.4-.4-.92-.59-1.43-.59-.52 0-1.04.2-1.43.59L10.3 9.45l-7.72 7.72c-.78.78-.78 2.05 0 2.83L4 21.41c.39.39.9.59 1.41.59.51 0 1.02-.2 1.41-.59l7.78-7.78 2.81-2.81c.8-.78.8-2.07 0-2.86zM5.41 20L4 18.59l7.72-7.72 1.47 1.35L5.41 20z\"/>\n",
              "  </svg>\n",
              "      </button>\n",
              "      \n",
              "  <style>\n",
              "    .colab-df-container {\n",
              "      display:flex;\n",
              "      flex-wrap:wrap;\n",
              "      gap: 12px;\n",
              "    }\n",
              "\n",
              "    .colab-df-convert {\n",
              "      background-color: #E8F0FE;\n",
              "      border: none;\n",
              "      border-radius: 50%;\n",
              "      cursor: pointer;\n",
              "      display: none;\n",
              "      fill: #1967D2;\n",
              "      height: 32px;\n",
              "      padding: 0 0 0 0;\n",
              "      width: 32px;\n",
              "    }\n",
              "\n",
              "    .colab-df-convert:hover {\n",
              "      background-color: #E2EBFA;\n",
              "      box-shadow: 0px 1px 2px rgba(60, 64, 67, 0.3), 0px 1px 3px 1px rgba(60, 64, 67, 0.15);\n",
              "      fill: #174EA6;\n",
              "    }\n",
              "\n",
              "    [theme=dark] .colab-df-convert {\n",
              "      background-color: #3B4455;\n",
              "      fill: #D2E3FC;\n",
              "    }\n",
              "\n",
              "    [theme=dark] .colab-df-convert:hover {\n",
              "      background-color: #434B5C;\n",
              "      box-shadow: 0px 1px 3px 1px rgba(0, 0, 0, 0.15);\n",
              "      filter: drop-shadow(0px 1px 2px rgba(0, 0, 0, 0.3));\n",
              "      fill: #FFFFFF;\n",
              "    }\n",
              "  </style>\n",
              "\n",
              "      <script>\n",
              "        const buttonEl =\n",
              "          document.querySelector('#df-43d7a770-586b-401b-acd5-bdf612d0915d button.colab-df-convert');\n",
              "        buttonEl.style.display =\n",
              "          google.colab.kernel.accessAllowed ? 'block' : 'none';\n",
              "\n",
              "        async function convertToInteractive(key) {\n",
              "          const element = document.querySelector('#df-43d7a770-586b-401b-acd5-bdf612d0915d');\n",
              "          const dataTable =\n",
              "            await google.colab.kernel.invokeFunction('convertToInteractive',\n",
              "                                                     [key], {});\n",
              "          if (!dataTable) return;\n",
              "\n",
              "          const docLinkHtml = 'Like what you see? Visit the ' +\n",
              "            '<a target=\"_blank\" href=https://colab.research.google.com/notebooks/data_table.ipynb>data table notebook</a>'\n",
              "            + ' to learn more about interactive tables.';\n",
              "          element.innerHTML = '';\n",
              "          dataTable['output_type'] = 'display_data';\n",
              "          await google.colab.output.renderOutput(dataTable, element);\n",
              "          const docLink = document.createElement('div');\n",
              "          docLink.innerHTML = docLinkHtml;\n",
              "          element.appendChild(docLink);\n",
              "        }\n",
              "      </script>\n",
              "    </div>\n",
              "  </div>\n",
              "  "
            ]
          },
          "metadata": {},
          "execution_count": 95
        }
      ]
    },
    {
      "cell_type": "code",
      "source": [
        "df.describe()"
      ],
      "metadata": {
        "colab": {
          "base_uri": "https://localhost:8080/",
          "height": 300
        },
        "id": "fjH46LTGM3Pv",
        "outputId": "1d385451-619e-415b-ca78-a8e2a0dbe80f"
      },
      "execution_count": 96,
      "outputs": [
        {
          "output_type": "execute_result",
          "data": {
            "text/plain": [
              "               V1          V3          V4           V5           V6  \\\n",
              "count  583.000000  583.000000  583.000000   583.000000   583.000000   \n",
              "mean    44.746141    3.298799    1.486106   290.576329    80.713551   \n",
              "std     16.189833    6.209522    2.808498   242.937989   182.620356   \n",
              "min      4.000000    0.400000    0.100000    63.000000    10.000000   \n",
              "25%     33.000000    0.800000    0.200000   175.500000    23.000000   \n",
              "50%     45.000000    1.000000    0.300000   208.000000    35.000000   \n",
              "75%     58.000000    2.600000    1.300000   298.000000    60.500000   \n",
              "max     90.000000   75.000000   19.700000  2110.000000  2000.000000   \n",
              "\n",
              "                V7          V8          V9         V10  \n",
              "count   583.000000  583.000000  583.000000  583.000000  \n",
              "mean    109.910806    6.483190    3.141852    0.947064  \n",
              "std     288.918529    1.085451    0.795519    0.318492  \n",
              "min      10.000000    2.700000    0.900000    0.300000  \n",
              "25%      25.000000    5.800000    2.600000    0.700000  \n",
              "50%      42.000000    6.600000    3.100000    0.947064  \n",
              "75%      87.000000    7.200000    3.800000    1.100000  \n",
              "max    4929.000000    9.600000    5.500000    2.800000  "
            ],
            "text/html": [
              "\n",
              "  <div id=\"df-bd45d051-b8fc-4541-8b68-8d89197b725a\">\n",
              "    <div class=\"colab-df-container\">\n",
              "      <div>\n",
              "<style scoped>\n",
              "    .dataframe tbody tr th:only-of-type {\n",
              "        vertical-align: middle;\n",
              "    }\n",
              "\n",
              "    .dataframe tbody tr th {\n",
              "        vertical-align: top;\n",
              "    }\n",
              "\n",
              "    .dataframe thead th {\n",
              "        text-align: right;\n",
              "    }\n",
              "</style>\n",
              "<table border=\"1\" class=\"dataframe\">\n",
              "  <thead>\n",
              "    <tr style=\"text-align: right;\">\n",
              "      <th></th>\n",
              "      <th>V1</th>\n",
              "      <th>V3</th>\n",
              "      <th>V4</th>\n",
              "      <th>V5</th>\n",
              "      <th>V6</th>\n",
              "      <th>V7</th>\n",
              "      <th>V8</th>\n",
              "      <th>V9</th>\n",
              "      <th>V10</th>\n",
              "    </tr>\n",
              "  </thead>\n",
              "  <tbody>\n",
              "    <tr>\n",
              "      <th>count</th>\n",
              "      <td>583.000000</td>\n",
              "      <td>583.000000</td>\n",
              "      <td>583.000000</td>\n",
              "      <td>583.000000</td>\n",
              "      <td>583.000000</td>\n",
              "      <td>583.000000</td>\n",
              "      <td>583.000000</td>\n",
              "      <td>583.000000</td>\n",
              "      <td>583.000000</td>\n",
              "    </tr>\n",
              "    <tr>\n",
              "      <th>mean</th>\n",
              "      <td>44.746141</td>\n",
              "      <td>3.298799</td>\n",
              "      <td>1.486106</td>\n",
              "      <td>290.576329</td>\n",
              "      <td>80.713551</td>\n",
              "      <td>109.910806</td>\n",
              "      <td>6.483190</td>\n",
              "      <td>3.141852</td>\n",
              "      <td>0.947064</td>\n",
              "    </tr>\n",
              "    <tr>\n",
              "      <th>std</th>\n",
              "      <td>16.189833</td>\n",
              "      <td>6.209522</td>\n",
              "      <td>2.808498</td>\n",
              "      <td>242.937989</td>\n",
              "      <td>182.620356</td>\n",
              "      <td>288.918529</td>\n",
              "      <td>1.085451</td>\n",
              "      <td>0.795519</td>\n",
              "      <td>0.318492</td>\n",
              "    </tr>\n",
              "    <tr>\n",
              "      <th>min</th>\n",
              "      <td>4.000000</td>\n",
              "      <td>0.400000</td>\n",
              "      <td>0.100000</td>\n",
              "      <td>63.000000</td>\n",
              "      <td>10.000000</td>\n",
              "      <td>10.000000</td>\n",
              "      <td>2.700000</td>\n",
              "      <td>0.900000</td>\n",
              "      <td>0.300000</td>\n",
              "    </tr>\n",
              "    <tr>\n",
              "      <th>25%</th>\n",
              "      <td>33.000000</td>\n",
              "      <td>0.800000</td>\n",
              "      <td>0.200000</td>\n",
              "      <td>175.500000</td>\n",
              "      <td>23.000000</td>\n",
              "      <td>25.000000</td>\n",
              "      <td>5.800000</td>\n",
              "      <td>2.600000</td>\n",
              "      <td>0.700000</td>\n",
              "    </tr>\n",
              "    <tr>\n",
              "      <th>50%</th>\n",
              "      <td>45.000000</td>\n",
              "      <td>1.000000</td>\n",
              "      <td>0.300000</td>\n",
              "      <td>208.000000</td>\n",
              "      <td>35.000000</td>\n",
              "      <td>42.000000</td>\n",
              "      <td>6.600000</td>\n",
              "      <td>3.100000</td>\n",
              "      <td>0.947064</td>\n",
              "    </tr>\n",
              "    <tr>\n",
              "      <th>75%</th>\n",
              "      <td>58.000000</td>\n",
              "      <td>2.600000</td>\n",
              "      <td>1.300000</td>\n",
              "      <td>298.000000</td>\n",
              "      <td>60.500000</td>\n",
              "      <td>87.000000</td>\n",
              "      <td>7.200000</td>\n",
              "      <td>3.800000</td>\n",
              "      <td>1.100000</td>\n",
              "    </tr>\n",
              "    <tr>\n",
              "      <th>max</th>\n",
              "      <td>90.000000</td>\n",
              "      <td>75.000000</td>\n",
              "      <td>19.700000</td>\n",
              "      <td>2110.000000</td>\n",
              "      <td>2000.000000</td>\n",
              "      <td>4929.000000</td>\n",
              "      <td>9.600000</td>\n",
              "      <td>5.500000</td>\n",
              "      <td>2.800000</td>\n",
              "    </tr>\n",
              "  </tbody>\n",
              "</table>\n",
              "</div>\n",
              "      <button class=\"colab-df-convert\" onclick=\"convertToInteractive('df-bd45d051-b8fc-4541-8b68-8d89197b725a')\"\n",
              "              title=\"Convert this dataframe to an interactive table.\"\n",
              "              style=\"display:none;\">\n",
              "        \n",
              "  <svg xmlns=\"http://www.w3.org/2000/svg\" height=\"24px\"viewBox=\"0 0 24 24\"\n",
              "       width=\"24px\">\n",
              "    <path d=\"M0 0h24v24H0V0z\" fill=\"none\"/>\n",
              "    <path d=\"M18.56 5.44l.94 2.06.94-2.06 2.06-.94-2.06-.94-.94-2.06-.94 2.06-2.06.94zm-11 1L8.5 8.5l.94-2.06 2.06-.94-2.06-.94L8.5 2.5l-.94 2.06-2.06.94zm10 10l.94 2.06.94-2.06 2.06-.94-2.06-.94-.94-2.06-.94 2.06-2.06.94z\"/><path d=\"M17.41 7.96l-1.37-1.37c-.4-.4-.92-.59-1.43-.59-.52 0-1.04.2-1.43.59L10.3 9.45l-7.72 7.72c-.78.78-.78 2.05 0 2.83L4 21.41c.39.39.9.59 1.41.59.51 0 1.02-.2 1.41-.59l7.78-7.78 2.81-2.81c.8-.78.8-2.07 0-2.86zM5.41 20L4 18.59l7.72-7.72 1.47 1.35L5.41 20z\"/>\n",
              "  </svg>\n",
              "      </button>\n",
              "      \n",
              "  <style>\n",
              "    .colab-df-container {\n",
              "      display:flex;\n",
              "      flex-wrap:wrap;\n",
              "      gap: 12px;\n",
              "    }\n",
              "\n",
              "    .colab-df-convert {\n",
              "      background-color: #E8F0FE;\n",
              "      border: none;\n",
              "      border-radius: 50%;\n",
              "      cursor: pointer;\n",
              "      display: none;\n",
              "      fill: #1967D2;\n",
              "      height: 32px;\n",
              "      padding: 0 0 0 0;\n",
              "      width: 32px;\n",
              "    }\n",
              "\n",
              "    .colab-df-convert:hover {\n",
              "      background-color: #E2EBFA;\n",
              "      box-shadow: 0px 1px 2px rgba(60, 64, 67, 0.3), 0px 1px 3px 1px rgba(60, 64, 67, 0.15);\n",
              "      fill: #174EA6;\n",
              "    }\n",
              "\n",
              "    [theme=dark] .colab-df-convert {\n",
              "      background-color: #3B4455;\n",
              "      fill: #D2E3FC;\n",
              "    }\n",
              "\n",
              "    [theme=dark] .colab-df-convert:hover {\n",
              "      background-color: #434B5C;\n",
              "      box-shadow: 0px 1px 3px 1px rgba(0, 0, 0, 0.15);\n",
              "      filter: drop-shadow(0px 1px 2px rgba(0, 0, 0, 0.3));\n",
              "      fill: #FFFFFF;\n",
              "    }\n",
              "  </style>\n",
              "\n",
              "      <script>\n",
              "        const buttonEl =\n",
              "          document.querySelector('#df-bd45d051-b8fc-4541-8b68-8d89197b725a button.colab-df-convert');\n",
              "        buttonEl.style.display =\n",
              "          google.colab.kernel.accessAllowed ? 'block' : 'none';\n",
              "\n",
              "        async function convertToInteractive(key) {\n",
              "          const element = document.querySelector('#df-bd45d051-b8fc-4541-8b68-8d89197b725a');\n",
              "          const dataTable =\n",
              "            await google.colab.kernel.invokeFunction('convertToInteractive',\n",
              "                                                     [key], {});\n",
              "          if (!dataTable) return;\n",
              "\n",
              "          const docLinkHtml = 'Like what you see? Visit the ' +\n",
              "            '<a target=\"_blank\" href=https://colab.research.google.com/notebooks/data_table.ipynb>data table notebook</a>'\n",
              "            + ' to learn more about interactive tables.';\n",
              "          element.innerHTML = '';\n",
              "          dataTable['output_type'] = 'display_data';\n",
              "          await google.colab.output.renderOutput(dataTable, element);\n",
              "          const docLink = document.createElement('div');\n",
              "          docLink.innerHTML = docLinkHtml;\n",
              "          element.appendChild(docLink);\n",
              "        }\n",
              "      </script>\n",
              "    </div>\n",
              "  </div>\n",
              "  "
            ]
          },
          "metadata": {},
          "execution_count": 96
        }
      ]
    },
    {
      "cell_type": "code",
      "source": [
        "df.info()"
      ],
      "metadata": {
        "colab": {
          "base_uri": "https://localhost:8080/"
        },
        "id": "SUvl_PMUM7Ak",
        "outputId": "76c6aeec-7748-47fa-f02b-b8227effe9cb"
      },
      "execution_count": 97,
      "outputs": [
        {
          "output_type": "stream",
          "name": "stdout",
          "text": [
            "<class 'pandas.core.frame.DataFrame'>\n",
            "RangeIndex: 583 entries, 0 to 582\n",
            "Data columns (total 11 columns):\n",
            " #   Column  Non-Null Count  Dtype  \n",
            "---  ------  --------------  -----  \n",
            " 0   V1      583 non-null    float64\n",
            " 1   V2      583 non-null    object \n",
            " 2   V3      583 non-null    float64\n",
            " 3   V4      583 non-null    float64\n",
            " 4   V5      583 non-null    float64\n",
            " 5   V6      583 non-null    float64\n",
            " 6   V7      583 non-null    float64\n",
            " 7   V8      583 non-null    float64\n",
            " 8   V9      583 non-null    float64\n",
            " 9   V10     583 non-null    float64\n",
            " 10  Class   583 non-null    object \n",
            "dtypes: float64(9), object(2)\n",
            "memory usage: 50.2+ KB\n"
          ]
        }
      ]
    },
    {
      "cell_type": "code",
      "source": [
        "df.shape"
      ],
      "metadata": {
        "colab": {
          "base_uri": "https://localhost:8080/"
        },
        "id": "UHp5WzxmLlz4",
        "outputId": "24a6c730-11b0-4134-cf24-05bf3fdadb9d"
      },
      "execution_count": 98,
      "outputs": [
        {
          "output_type": "execute_result",
          "data": {
            "text/plain": [
              "(583, 11)"
            ]
          },
          "metadata": {},
          "execution_count": 98
        }
      ]
    },
    {
      "cell_type": "code",
      "source": [
        "# Otimizando os dados da feature V2\n",
        "df['V2'] = df['V2'].astype(str).replace(to_replace=('b',\"'\"), value='', regex=True)\n",
        "df['V2'] = df['V2'].map({'Female': 0, 'Male': 1})\n",
        "df = pd.get_dummies(df, columns=['V2'])"
      ],
      "metadata": {
        "id": "KF_66uQwM_p-"
      },
      "execution_count": 99,
      "outputs": []
    },
    {
      "cell_type": "code",
      "source": [
        "# Otimizando os dados da predictor class\n",
        "df['Class'] = df['Class'].astype(str).replace(to_replace=('b',\"'\"), value='', regex=True).astype(np.int64)"
      ],
      "metadata": {
        "id": "-idsqv4PTBcr"
      },
      "execution_count": 100,
      "outputs": []
    },
    {
      "cell_type": "code",
      "source": [
        "df.info()"
      ],
      "metadata": {
        "colab": {
          "base_uri": "https://localhost:8080/"
        },
        "id": "WsGlBfhjSoMB",
        "outputId": "0c3aae9c-3bbc-4b80-d45f-d8c3756f62a5"
      },
      "execution_count": 101,
      "outputs": [
        {
          "output_type": "stream",
          "name": "stdout",
          "text": [
            "<class 'pandas.core.frame.DataFrame'>\n",
            "RangeIndex: 583 entries, 0 to 582\n",
            "Data columns (total 12 columns):\n",
            " #   Column  Non-Null Count  Dtype  \n",
            "---  ------  --------------  -----  \n",
            " 0   V1      583 non-null    float64\n",
            " 1   V3      583 non-null    float64\n",
            " 2   V4      583 non-null    float64\n",
            " 3   V5      583 non-null    float64\n",
            " 4   V6      583 non-null    float64\n",
            " 5   V7      583 non-null    float64\n",
            " 6   V8      583 non-null    float64\n",
            " 7   V9      583 non-null    float64\n",
            " 8   V10     583 non-null    float64\n",
            " 9   Class   583 non-null    int64  \n",
            " 10  V2_0    583 non-null    uint8  \n",
            " 11  V2_1    583 non-null    uint8  \n",
            "dtypes: float64(9), int64(1), uint8(2)\n",
            "memory usage: 46.8 KB\n"
          ]
        }
      ]
    },
    {
      "cell_type": "code",
      "source": [
        "#dividindo a predicton class das features\n",
        "X = np.array(df.drop('Class', axis=1))\n",
        "y = np.array(df['Class'])"
      ],
      "metadata": {
        "id": "7mzl2hX72rHX"
      },
      "execution_count": 102,
      "outputs": []
    },
    {
      "cell_type": "code",
      "source": [
        "X.shape"
      ],
      "metadata": {
        "colab": {
          "base_uri": "https://localhost:8080/"
        },
        "id": "e1cp_SNsTRCT",
        "outputId": "f2f39874-83f7-40fc-b9b4-87e83e69a889"
      },
      "execution_count": 103,
      "outputs": [
        {
          "output_type": "execute_result",
          "data": {
            "text/plain": [
              "(583, 11)"
            ]
          },
          "metadata": {},
          "execution_count": 103
        }
      ]
    },
    {
      "cell_type": "code",
      "source": [
        "y.shape"
      ],
      "metadata": {
        "colab": {
          "base_uri": "https://localhost:8080/"
        },
        "id": "pVOnF8-r0MF-",
        "outputId": "e4995a13-8b06-4800-ced9-21e0da99f46c"
      },
      "execution_count": 104,
      "outputs": [
        {
          "output_type": "execute_result",
          "data": {
            "text/plain": [
              "(583,)"
            ]
          },
          "metadata": {},
          "execution_count": 104
        }
      ]
    },
    {
      "cell_type": "markdown",
      "source": [
        "# **Croos Validation e Random Search no SVM**"
      ],
      "metadata": {
        "id": "b5tRP2RJMyat"
      }
    },
    {
      "cell_type": "code",
      "source": [
        "#definindo o tipo de validacao cruzada e o numero de folds\n",
        "cv_strat = StratifiedKFold(n_splits=10)\n",
        "\n",
        "#definindo a estrategia de score a partir da metrica f1\n",
        "f1 = make_scorer(f1_score)\n",
        "\n",
        "#definindo hiperparâmetros\n",
        "distributions = dict(kernel = ['sigmoid', 'poly','rbf'], C = uniform(loc=1, scale=10))\n",
        "\n",
        "#instânciando meu classificador\n",
        "classifier = SVC()\n",
        "\n",
        "#modelando o grid search com a validação cruzada.\n",
        "random_SVM = RandomizedSearchCV(classifier, distributions, cv=cv_strat, scoring=f1, random_state=5762, n_iter=5)\n",
        "random_SVM.fit(X, y)"
      ],
      "metadata": {
        "colab": {
          "base_uri": "https://localhost:8080/"
        },
        "id": "ujGAYbbn15LO",
        "outputId": "f0bab6c3-0b30-4488-f2f6-c6ecc9da995a"
      },
      "execution_count": 105,
      "outputs": [
        {
          "output_type": "execute_result",
          "data": {
            "text/plain": [
              "RandomizedSearchCV(cv=StratifiedKFold(n_splits=10, random_state=None, shuffle=False),\n",
              "                   estimator=SVC(), n_iter=5,\n",
              "                   param_distributions={'C': <scipy.stats._distn_infrastructure.rv_frozen object at 0x7ff38cea9f10>,\n",
              "                                        'kernel': ['sigmoid', 'poly', 'rbf']},\n",
              "                   random_state=5762, scoring=make_scorer(f1_score))"
            ]
          },
          "metadata": {},
          "execution_count": 105
        }
      ]
    },
    {
      "cell_type": "code",
      "source": [
        "print('Melhor resultado f1:', random_SVM.best_score_)\n",
        "print('\\nMelhor configuração de hiperparâmetros:', random_SVM.best_params_)\n",
        "print( '\\nMelhor Configuração encontrada pelo GridSearch: \\n', random_SVM.best_estimator_)"
      ],
      "metadata": {
        "colab": {
          "base_uri": "https://localhost:8080/"
        },
        "id": "9CXPE4kq44LM",
        "outputId": "3fdbda54-2338-47c3-f27a-d753643f448d"
      },
      "execution_count": 106,
      "outputs": [
        {
          "output_type": "stream",
          "name": "stdout",
          "text": [
            "Melhor resultado f1: 0.832818081808181\n",
            "\n",
            "Melhor configuração de hiperparâmetros: {'C': 3.996689355015553, 'kernel': 'poly'}\n",
            "\n",
            "Melhor Configuração encontrada pelo GridSearch: \n",
            " SVC(C=3.996689355015553, kernel='poly')\n"
          ]
        }
      ]
    },
    {
      "cell_type": "markdown",
      "source": [
        "# **Croos Validation e Random Search no Random Forest**"
      ],
      "metadata": {
        "id": "k9jqf45zNs3k"
      }
    },
    {
      "cell_type": "code",
      "source": [
        "#definindo o tipo de validacao cruzada e o numero de folds\n",
        "cv_strat = StratifiedKFold(n_splits=10)\n",
        "\n",
        "#definindo a estrategia de score a partir da metrica f1\n",
        "f1 = make_scorer(f1_score)\n",
        "\n",
        "#definindo hiperparâmetros\n",
        "distributions1 = dict(n_estimators = randint(10, 1000), bootstrap = [True, False], criterion = ['gini', 'entropy'])\n",
        "\n",
        "#instânciando meu classificador\n",
        "classifier1 = RandomForestClassifier(random_state=5762)\n",
        "\n",
        "#modelando o grid search com a validação cruzada.\n",
        "random_RF = RandomizedSearchCV(classifier1, distributions1, cv = cv_strat, scoring = f1, random_state=5762, n_iter=5)\n",
        "random_RF.fit(X, y)"
      ],
      "metadata": {
        "colab": {
          "base_uri": "https://localhost:8080/"
        },
        "id": "BoERJzYA9FA_",
        "outputId": "71c50d8f-acfc-4473-c619-ada0183e59b4"
      },
      "execution_count": 107,
      "outputs": [
        {
          "output_type": "execute_result",
          "data": {
            "text/plain": [
              "RandomizedSearchCV(cv=StratifiedKFold(n_splits=10, random_state=None, shuffle=False),\n",
              "                   estimator=RandomForestClassifier(random_state=5762),\n",
              "                   n_iter=5,\n",
              "                   param_distributions={'bootstrap': [True, False],\n",
              "                                        'criterion': ['gini', 'entropy'],\n",
              "                                        'n_estimators': <scipy.stats._distn_infrastructure.rv_frozen object at 0x7ff38cd82210>},\n",
              "                   random_state=5762, scoring=make_scorer(f1_score))"
            ]
          },
          "metadata": {},
          "execution_count": 107
        }
      ]
    },
    {
      "cell_type": "code",
      "source": [
        "print('Melhor resultado f1:', random_RF.best_score_)\n",
        "print('\\nMelhor configuração de hiperparâmetros:', random_RF.best_params_)\n",
        "print( '\\nMelhor Configuração encontrada pelo GridSearch: \\n', random_RF.best_estimator_)"
      ],
      "metadata": {
        "colab": {
          "base_uri": "https://localhost:8080/"
        },
        "id": "u3bXcscG97tz",
        "outputId": "4d780036-5543-4d01-979f-949d6f6e274d"
      },
      "execution_count": 108,
      "outputs": [
        {
          "output_type": "stream",
          "name": "stdout",
          "text": [
            "Melhor resultado f1: 0.8120092932415195\n",
            "\n",
            "Melhor configuração de hiperparâmetros: {'bootstrap': True, 'criterion': 'gini', 'n_estimators': 488}\n",
            "\n",
            "Melhor Configuração encontrada pelo GridSearch: \n",
            " RandomForestClassifier(n_estimators=488, random_state=5762)\n"
          ]
        }
      ]
    }
  ]
}